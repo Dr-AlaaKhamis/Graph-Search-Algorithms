{
 "cells": [
  {
   "cell_type": "markdown",
   "metadata": {},
   "source": [
    "# Travelling Sales man"
   ]
  },
  {
   "cell_type": "markdown",
   "metadata": {},
   "source": [
    "You have a graph with a multiple node and you need to find the path that traverses all the nodes once, that path is called hamiltonian cycle."
   ]
  },
  {
   "cell_type": "markdown",
   "metadata": {},
   "source": [
    "Travelling Sales man problem is about finding the hamiltonian cycle with the least cost of all hamiltonian cycles in the graph.    \n",
    "\n",
    "Finding such a path is easier said than done, finding the exact solution for this problem for large graphs (>25 nodes) is NP-complete and that is when we resort to do approximations and heuristics.    \n",
    "\n",
    "You can find excellent essay exploring these methods here [tsp-essay](https://github.com/rsalmei/tsp-essay).  "
   ]
  },
  {
   "cell_type": "markdown",
   "metadata": {},
   "source": [
    "We will implement in this notebook two of the most straight forward solutions for such a problem, finding all the combinations of the nodes and our desired path is the combination with te least weight, with complexity of $O(n!)$, which make this algorithm has unrealistic complexity for n>10. There is other algorithm, we will explored in the notebook based on saving dynamic programming state of the graph and it has complexity of $O(2^n*"
   ]
  },
  {
   "cell_type": "code",
   "execution_count": null,
   "metadata": {},
   "outputs": [],
   "source": []
  }
 ],
 "metadata": {
  "kernelspec": {
   "display_name": "Python 3",
   "language": "python",
   "name": "python3"
  },
  "language_info": {
   "codemirror_mode": {
    "name": "ipython",
    "version": 3
   },
   "file_extension": ".py",
   "mimetype": "text/x-python",
   "name": "python",
   "nbconvert_exporter": "python",
   "pygments_lexer": "ipython3",
   "version": "3.6.9"
  }
 },
 "nbformat": 4,
 "nbformat_minor": 4
}
