{
 "cells": [
  {
   "cell_type": "markdown",
   "metadata": {},
   "source": [
    "# Travelling Sales man"
   ]
  },
  {
   "cell_type": "markdown",
   "metadata": {},
   "source": [
    "You have a graph with a multiple node and you need to find the path that traverses all the nodes once, that path is called hamiltonian cycle."
   ]
  },
  {
   "cell_type": "markdown",
   "metadata": {},
   "source": [
    "Travelling Sales man problem is about finding the hamiltonian cycle with the least cost of all hamiltonian cycles in the graph.    \n",
    "\n",
    "Finding such a path is easier said than done, finding the exact solution for this problem for large graphs (>25 nodes) is NP-complete and that is when we resort to do approximations and heuristics.    \n",
    "\n",
    "You can find excellent essay exploring these methods here [tsp-essay](https://github.com/rsalmei/tsp-essay).  "
   ]
  },
  {
   "cell_type": "markdown",
   "metadata": {},
   "source": [
    "We will implement in this notebook two of the most straight forward solutions for such a problem, finding all the combinations of the nodes and our desired path is the combination with te least weight, with complexity of $O(n!)$, which make this algorithm has unrealistic complexity for n>10. There is other algorithm, we will explored in the notebook based on saving dynamic programming state of the graph and it has complexity of $O(2^n*n^2)$ which is unpractical for more than 25 nodes."
   ]
  },
  {
   "cell_type": "markdown",
   "metadata": {},
   "source": [
    "# Algorithms"
   ]
  },
  {
   "cell_type": "markdown",
   "metadata": {},
   "source": [
    "let's first build our graph using `networkx`"
   ]
  },
  {
   "cell_type": "code",
   "execution_count": null,
   "metadata": {},
   "outputs": [],
   "source": [
    "# run this if YOU ARE on google cloud\n",
    "!pip3 install networkx\n",
    "# upload utils.py to your cloud instance"
   ]
  },
  {
   "cell_type": "code",
   "execution_count": 1,
   "metadata": {},
   "outputs": [],
   "source": [
    "import networkx as nx"
   ]
  },
  {
   "cell_type": "code",
   "execution_count": 2,
   "metadata": {},
   "outputs": [],
   "source": [
    "G = nx.Graph()\n",
    "G.add_node(1)\n",
    "G.add_node(2)\n",
    "G.add_node(3)\n",
    "G.add_node(4)\n",
    "G.add_node(5)"
   ]
  },
  {
   "cell_type": "code",
   "execution_count": 3,
   "metadata": {},
   "outputs": [],
   "source": [
    "edges = [(1,2,{'weight':4}),\n",
    "         (1,3,{'weight':2}),\n",
    "         (1,4,{'weight':9}),\n",
    "         (1,5,{'weight':12}),\n",
    "         (2,3,{'weight':7}),\n",
    "         (2,4,{'weight':5}),\n",
    "         (2,5,{'weight':5}),\n",
    "         (3,4,{'weight':4}),\n",
    "         (3,5,{'weight':10}),\n",
    "         (4,5,{'weight':3})]"
   ]
  },
  {
   "cell_type": "markdown",
   "metadata": {},
   "source": [
    "Fortunately the graph is complete K<sub>5</sub> so we wouldn't worry if we can get from a certain node to another"
   ]
  },
  {
   "cell_type": "code",
   "execution_count": 4,
   "metadata": {},
   "outputs": [
    {
     "data": {
      "image/png": "[encoded data removed]",
      "text/plain": [
       "<Figure size 432x288 with 1 Axes>"
      ]
     },
     "metadata": {},
     "output_type": "display_data"
    }
   ],
   "source": [
    "G.add_edges_from([*edges]) \n",
    "nx.draw(G, with_labels=True)"
   ]
  },
  {
   "cell_type": "markdown",
   "metadata": {},
   "source": [
    "### Naive Algorithm"
   ]
  },
  {
   "cell_type": "markdown",
   "metadata": {},
   "source": [
    "just print all the combinations "
   ]
  },
  {
   "cell_type": "markdown",
   "metadata": {},
   "source": [
    "__TSM-NAIVE__(graph) returns hamiltonian path    \n",
    "&emsp;_MinimumWeight_ &larr; $infinity$    \n",
    "&emsp;_MinimumPath_ &larr; _nill_  \n",
    "&emsp;__for__ permutation __in__ _graph_._nodes_  \n",
    "&emsp;&emsp; __if__ Weight(_permutation_) &lt; _MinimumWeight_  \n",
    "&emsp;&emsp;&emsp; _MinimumWeight_ &larr; Weight(_permutation_)  \n",
    "&emsp;&emsp;&emsp; _MinimumPath_ &larr; _permutation_  \n",
    "&emsp;&emsp; __endif__  \n",
    "&emsp;__endfor__  \n",
    "&emsp;return _MinimumPath_  "
   ]
  },
  {
   "cell_type": "code",
   "execution_count": 8,
   "metadata": {},
   "outputs": [],
   "source": [
    "from itertools import permutations\n",
    "from utils import *\n",
    "from math import inf"
   ]
  },
  {
   "cell_type": "code",
   "execution_count": 9,
   "metadata": {},
   "outputs": [
    {
     "name": "stdout",
     "output_type": "stream",
     "text": [
      "(1, 2, 3, 4, 5) >>> 30\n",
      "(1, 2, 3, 5, 4) >>> 33\n",
      "(1, 2, 4, 3, 5) >>> 35\n",
      "(1, 2, 4, 5, 3) >>> 24\n",
      "(1, 2, 5, 3, 4) >>> 32\n",
      "(1, 2, 5, 4, 3) >>> 18\n",
      "(1, 3, 2, 4, 5) >>> 29\n",
      "(1, 3, 2, 5, 4) >>> 26\n",
      "(1, 3, 4, 2, 5) >>> 28\n",
      "(1, 3, 4, 5, 2) >>> 18\n",
      "(1, 3, 5, 2, 4) >>> 31\n",
      "(1, 3, 5, 4, 2) >>> 24\n",
      "(1, 4, 2, 3, 5) >>> 43\n",
      "(1, 4, 2, 5, 3) >>> 31\n",
      "(1, 4, 3, 2, 5) >>> 37\n",
      "(1, 4, 3, 5, 2) >>> 32\n",
      "(1, 4, 5, 2, 3) >>> 26\n",
      "(1, 4, 5, 3, 2) >>> 33\n",
      "(1, 5, 2, 3, 4) >>> 37\n",
      "(1, 5, 2, 4, 3) >>> 28\n",
      "(1, 5, 3, 2, 4) >>> 43\n",
      "(1, 5, 3, 4, 2) >>> 35\n",
      "(1, 5, 4, 2, 3) >>> 29\n",
      "(1, 5, 4, 3, 2) >>> 30\n",
      "(2, 1, 3, 4, 5) >>> 18\n",
      "(2, 1, 3, 5, 4) >>> 24\n",
      "(2, 1, 4, 3, 5) >>> 32\n",
      "(2, 1, 4, 5, 3) >>> 33\n",
      "(2, 1, 5, 3, 4) >>> 35\n",
      "(2, 1, 5, 4, 3) >>> 30\n",
      "(2, 3, 1, 4, 5) >>> 26\n",
      "(2, 3, 1, 5, 4) >>> 29\n",
      "(2, 3, 4, 1, 5) >>> 37\n",
      "(2, 3, 4, 5, 1) >>> 30\n",
      "(2, 3, 5, 1, 4) >>> 43\n",
      "(2, 3, 5, 4, 1) >>> 33\n",
      "(2, 4, 1, 3, 5) >>> 31\n",
      "(2, 4, 1, 5, 3) >>> 43\n",
      "(2, 4, 3, 1, 5) >>> 28\n",
      "(2, 4, 3, 5, 1) >>> 35\n",
      "(2, 4, 5, 1, 3) >>> 29\n",
      "(2, 4, 5, 3, 1) >>> 24\n",
      "(2, 5, 1, 3, 4) >>> 28\n",
      "(2, 5, 1, 4, 3) >>> 37\n",
      "(2, 5, 3, 1, 4) >>> 31\n",
      "(2, 5, 3, 4, 1) >>> 32\n",
      "(2, 5, 4, 1, 3) >>> 26\n",
      "(2, 5, 4, 3, 1) >>> 18\n",
      "(3, 1, 2, 4, 5) >>> 24\n",
      "(3, 1, 2, 5, 4) >>> 18\n",
      "(3, 1, 4, 2, 5) >>> 31\n",
      "(3, 1, 4, 5, 2) >>> 26\n",
      "(3, 1, 5, 2, 4) >>> 28\n",
      "(3, 1, 5, 4, 2) >>> 29\n",
      "(3, 2, 1, 4, 5) >>> 33\n",
      "(3, 2, 1, 5, 4) >>> 30\n",
      "(3, 2, 4, 1, 5) >>> 43\n",
      "(3, 2, 4, 5, 1) >>> 29\n",
      "(3, 2, 5, 1, 4) >>> 37\n",
      "(3, 2, 5, 4, 1) >>> 26\n",
      "(3, 4, 1, 2, 5) >>> 32\n",
      "(3, 4, 1, 5, 2) >>> 37\n",
      "(3, 4, 2, 1, 5) >>> 35\n",
      "(3, 4, 2, 5, 1) >>> 28\n",
      "(3, 4, 5, 1, 2) >>> 30\n",
      "(3, 4, 5, 2, 1) >>> 18\n",
      "(3, 5, 1, 2, 4) >>> 35\n",
      "(3, 5, 1, 4, 2) >>> 43\n",
      "(3, 5, 2, 1, 4) >>> 32\n",
      "(3, 5, 2, 4, 1) >>> 31\n",
      "(3, 5, 4, 1, 2) >>> 33\n",
      "(3, 5, 4, 2, 1) >>> 24\n",
      "(4, 1, 2, 3, 5) >>> 33\n",
      "(4, 1, 2, 5, 3) >>> 32\n",
      "(4, 1, 3, 2, 5) >>> 26\n",
      "(4, 1, 3, 5, 2) >>> 31\n",
      "(4, 1, 5, 2, 3) >>> 37\n",
      "(4, 1, 5, 3, 2) >>> 43\n",
      "(4, 2, 1, 3, 5) >>> 24\n",
      "(4, 2, 1, 5, 3) >>> 35\n",
      "(4, 2, 3, 1, 5) >>> 29\n",
      "(4, 2, 3, 5, 1) >>> 43\n",
      "(4, 2, 5, 1, 3) >>> 28\n",
      "(4, 2, 5, 3, 1) >>> 31\n",
      "(4, 3, 1, 2, 5) >>> 18\n",
      "(4, 3, 1, 5, 2) >>> 28\n",
      "(4, 3, 2, 1, 5) >>> 30\n",
      "(4, 3, 2, 5, 1) >>> 37\n",
      "(4, 3, 5, 1, 2) >>> 35\n",
      "(4, 3, 5, 2, 1) >>> 32\n",
      "(4, 5, 1, 2, 3) >>> 30\n",
      "(4, 5, 1, 3, 2) >>> 29\n",
      "(4, 5, 2, 1, 3) >>> 18\n",
      "(4, 5, 2, 3, 1) >>> 26\n",
      "(4, 5, 3, 1, 2) >>> 24\n",
      "(4, 5, 3, 2, 1) >>> 33\n",
      "(5, 1, 2, 3, 4) >>> 30\n",
      "(5, 1, 2, 4, 3) >>> 35\n",
      "(5, 1, 3, 2, 4) >>> 29\n",
      "(5, 1, 3, 4, 2) >>> 28\n",
      "(5, 1, 4, 2, 3) >>> 43\n",
      "(5, 1, 4, 3, 2) >>> 37\n",
      "(5, 2, 1, 3, 4) >>> 18\n",
      "(5, 2, 1, 4, 3) >>> 32\n",
      "(5, 2, 3, 1, 4) >>> 26\n",
      "(5, 2, 3, 4, 1) >>> 37\n",
      "(5, 2, 4, 1, 3) >>> 31\n",
      "(5, 2, 4, 3, 1) >>> 28\n",
      "(5, 3, 1, 2, 4) >>> 24\n",
      "(5, 3, 1, 4, 2) >>> 31\n",
      "(5, 3, 2, 1, 4) >>> 33\n",
      "(5, 3, 2, 4, 1) >>> 43\n",
      "(5, 3, 4, 1, 2) >>> 32\n",
      "(5, 3, 4, 2, 1) >>> 35\n",
      "(5, 4, 1, 2, 3) >>> 33\n",
      "(5, 4, 1, 3, 2) >>> 26\n",
      "(5, 4, 2, 1, 3) >>> 24\n",
      "(5, 4, 2, 3, 1) >>> 29\n",
      "(5, 4, 3, 1, 2) >>> 18\n",
      "(5, 4, 3, 2, 1) >>> 30\n"
     ]
    }
   ],
   "source": [
    "minimumWeight = inf\n",
    "minimumPath = None\n",
    "\n",
    "# iterating through all permutations\n",
    "for permutation in permutations(list(G.nodes()), len(G.nodes())):\n",
    "    if getWeight(G, permutation) < minimumWeight:\n",
    "        minimumWeight = getWeight(G, permutation)\n",
    "        minimumPath = permutation\n",
    "    # generating all permutations and printing their weights\n",
    "    print(permutation, \">>>\", getWeight(G, permutation))"
   ]
  },
  {
   "cell_type": "code",
   "execution_count": 10,
   "metadata": {},
   "outputs": [
    {
     "data": {
      "text/plain": [
       "(1, 2, 5, 4, 3)"
      ]
     },
     "execution_count": 10,
     "metadata": {},
     "output_type": "execute_result"
    }
   ],
   "source": [
    "minimumPath "
   ]
  },
  {
   "cell_type": "code",
   "execution_count": 11,
   "metadata": {},
   "outputs": [
    {
     "data": {
      "text/plain": [
       "18"
      ]
     },
     "execution_count": 11,
     "metadata": {},
     "output_type": "execute_result"
    }
   ],
   "source": [
    "minimumWeight"
   ]
  },
  {
   "cell_type": "code",
   "execution_count": 12,
   "metadata": {},
   "outputs": [
    {
     "data": {
      "text/plain": [
       "(1, 2, 5, 4, 3, 1)"
      ]
     },
     "execution_count": 12,
     "metadata": {},
     "output_type": "execute_result"
    }
   ],
   "source": [
    "# we need to stitch the end of this path with the front to get our cycle\n",
    "# this stitching has been taken care of in getWeight function\n",
    "TSM_cycle = minimumPath + (minimumPath[0],)\n",
    "TSM_cycle"
   ]
  },
  {
   "cell_type": "code",
   "execution_count": 13,
   "metadata": {},
   "outputs": [],
   "source": [
    "E = getEdges(TSM_cycle)"
   ]
  },
  {
   "cell_type": "code",
   "execution_count": 14,
   "metadata": {},
   "outputs": [
    {
     "data": {
      "image/png": "[encoded data removed]",
      "text/plain": [
       "<Figure size 432x288 with 1 Axes>"
      ]
     },
     "metadata": {},
     "output_type": "display_data"
    }
   ],
   "source": [
    "nx.draw(G, with_labels = True, width = [5 if edge in E or tuple(reversed(edge)) in E else 1 for edge in G.edges()])"
   ]
  },
  {
   "cell_type": "markdown",
   "metadata": {},
   "source": [
    "### Dynamic Programming"
   ]
  },
  {
   "cell_type": "markdown",
   "metadata": {},
   "source": [
    "*to do*"
   ]
  },
  {
   "cell_type": "code",
   "execution_count": null,
   "metadata": {},
   "outputs": [],
   "source": []
  }
 ],
 "metadata": {
  "kernelspec": {
   "display_name": "Python 3",
   "language": "python",
   "name": "python3"
  },
  "language_info": {
   "codemirror_mode": {
    "name": "ipython",
    "version": 3
   },
   "file_extension": ".py",
   "mimetype": "text/x-python",
   "name": "python",
   "nbconvert_exporter": "python",
   "pygments_lexer": "ipython3",
   "version": "3.6.9"
  }
 },
 "nbformat": 4,
 "nbformat_minor": 4
}
