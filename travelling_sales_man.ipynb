{
 "cells": [
  {
   "cell_type": "markdown",
   "metadata": {},
   "source": [
    "# Travelling Sales man"
   ]
  },
  {
   "cell_type": "markdown",
   "metadata": {},
   "source": [
    "You have a graph with a multiple node and you need to find the path that traverses all the nodes once, that path is called hamiltonian cycle."
   ]
  },
  {
   "cell_type": "markdown",
   "metadata": {},
   "source": [
    "Travelling Sales man problem is about finding the hamiltonian cycle with the least cost of all hamiltonian cycles in the graph.    \n",
    "\n",
    "Finding such a path is easier said than done, finding the exact solution for this problem for large graphs (>25 nodes) is NP-complete and that is when we resort to do approximations and heuristics.    \n",
    "\n",
    "You can find excellent essay exploring these methods here [tsp-essay](https://github.com/rsalmei/tsp-essay).  "
   ]
  },
  {
   "cell_type": "markdown",
   "metadata": {},
   "source": [
    "We will implement in this notebook two of the most straight forward solutions for such a problem, finding all the combinations of the nodes and our desired path is the combination with te least weight, with complexity of $O(n!)$, which make this algorithm has unrealistic complexity for n>10. There is other algorithm, we will explored in the notebook based on saving dynamic programming state of the graph and it has complexity of $O(2^n*n^2)$ which is unpractical for more than 25 nodes."
   ]
  },
  {
   "cell_type": "markdown",
   "metadata": {},
   "source": [
    "# Algorithms"
   ]
  },
  {
   "cell_type": "markdown",
   "metadata": {},
   "source": [
    "let's first build our graph using `networkx`"
   ]
  },
  {
   "cell_type": "code",
   "execution_count": 1,
   "metadata": {},
   "outputs": [],
   "source": [
    "import networkx as nx\n",
    "from figures import *"
   ]
  },
  {
   "cell_type": "code",
   "execution_count": 3,
   "metadata": {},
   "outputs": [],
   "source": [
    "G = nx.Graph()\n",
    "G.add_node(1)\n",
    "G.add_node(2)\n",
    "G.add_node(3)\n",
    "G.add_node(4)\n",
    "G.add_node(5)"
   ]
  },
  {
   "cell_type": "code",
   "execution_count": 11,
   "metadata": {},
   "outputs": [],
   "source": [
    "edges = [(1,2,{'weight':4}),\n",
    "         (1,3,{'weight':2}),\n",
    "         (1,4,{'weight':9}),\n",
    "         (1,5,{'weight':12}),\n",
    "         (2,3,{'weight':7}),\n",
    "         (2,4,{'weight':5}),\n",
    "         (2,5,{'weight':5}),\n",
    "         (3,4,{'weight':4}),\n",
    "         (3,5,{'weight':10}),\n",
    "         (4,5,{'weight':3})]"
   ]
  },
  {
   "cell_type": "markdown",
   "metadata": {},
   "source": [
    "Fortunately the graph is complete K<sub>5</sub> so we wouldn't worry if we can get from a certain node to another"
   ]
  },
  {
   "cell_type": "code",
   "execution_count": null,
   "metadata": {},
   "outputs": [],
   "source": []
  },
  {
   "cell_type": "markdown",
   "metadata": {},
   "source": [
    "### Naive Algorithm"
   ]
  },
  {
   "cell_type": "markdown",
   "metadata": {},
   "source": []
  }
 ],
 "metadata": {
  "kernelspec": {
   "display_name": "Python 3",
   "language": "python",
   "name": "python3"
  },
  "language_info": {
   "codemirror_mode": {
    "name": "ipython",
    "version": 3
   },
   "file_extension": ".py",
   "mimetype": "text/x-python",
   "name": "python",
   "nbconvert_exporter": "python",
   "pygments_lexer": "ipython3",
   "version": "3.6.9"
  }
 },
 "nbformat": 4,
 "nbformat_minor": 4
}
