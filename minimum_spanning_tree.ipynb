{
 "cells": [
  {
   "cell_type": "markdown",
   "metadata": {},
   "source": [
    "# Minimum Spanning Tree"
   ]
  },
  {
   "cell_type": "markdown",
   "metadata": {},
   "source": [
    "We will be trying to find the minimum spanning tree of all nodes over Piedmont in California "
   ]
  },
  {
   "cell_type": "markdown",
   "metadata": {},
   "source": [
    "We will be implementing kruskal's algorithm, which find the minimum spanning tree over each connected component in out graph"
   ]
  },
  {
   "cell_type": "markdown",
   "metadata": {},
   "source": [
    "Here is somethings you need to think about when you are doing this algorithm over a graph contructed from a map"
   ]
  },
  {
   "cell_type": "markdown",
   "metadata": {},
   "source": [
    "- The graph may seem like a one big connected component but it actually isn't. Because there are one-way streets which seem to connect the adjacent nodes on the below graph, but they don't because for example you can get from A to B but you can't get from B to A."
   ]
  },
  {
   "cell_type": "markdown",
   "metadata": {},
   "source": [
    "- That is why you will find multiple spanning tree at the end. Over each *connected* streets/neighbourhood of nodes."
   ]
  },
  {
   "cell_type": "markdown",
   "metadata": {},
   "source": [
    "- You will find loops in the spanning tree which is the biggest violation of tree-like structure, but you need to think about one-way and two-way street as I mentioned above. It may seem like a loop to you but it is just a one-way street"
   ]
  },
  {
   "cell_type": "code",
   "execution_count": null,
   "metadata": {},
   "outputs": [],
   "source": [
    "##############################################################################\n",
    "# IGNORE if you are running on a local machine and have all the dependencies #\n",
    "##############################################################################\n",
    "\n",
    "# installing dependencies --- to be able to run on google colab\n",
    "# it would take 2-3 minutes\n",
    "!apt-get install libspatialindex-c4v5;\n",
    "!pip3 install Rtree;\n",
    "!pip3 install osmnx;\n",
    "\n",
    "# you HAVE to upload problem.py file \n",
    "# so the directory should be \n",
    "#|- sample_data/ \n",
    "#|- problem.py"
   ]
  },
  {
   "cell_type": "code",
   "execution_count": null,
   "metadata": {},
   "outputs": [],
   "source": [
    "import networkx as nx\n",
    "import osmnx as ox\n",
    "from matplotlib.collections import LineCollection\n",
    "import matplotlib.pyplot as plt\n",
    "from problem import *"
   ]
  },
  {
   "cell_type": "code",
   "execution_count": null,
   "metadata": {},
   "outputs": [],
   "source": [
    "place = 'Piedmont, California, USA'\n",
    "G = ox.graph_from_place(place, network_type='drive_service')\n",
    "G = ox.project_graph(G)"
   ]
  },
  {
   "cell_type": "code",
   "execution_count": null,
   "metadata": {},
   "outputs": [],
   "source": [
    "fig, ax = ox.plot_graph(G)"
   ]
  },
  {
   "cell_type": "markdown",
   "metadata": {},
   "source": [
    "We will be getting x,y coordinates of each nodes for visulaization at the end"
   ]
  },
  {
   "cell_type": "code",
   "execution_count": null,
   "metadata": {},
   "outputs": [],
   "source": [
    "node_Xs = [float(x) for _, x in G.nodes(data='x')]\n",
    "node_Ys = [float(y) for _, y in G.nodes(data='y')]"
   ]
  },
  {
   "cell_type": "code",
   "execution_count": null,
   "metadata": {},
   "outputs": [],
   "source": [
    "# tuple (source, destination, distance)\n",
    "Edges = PriorityQueue('min', lambda edge: edge[2])   "
   ]
  },
  {
   "cell_type": "code",
   "execution_count": null,
   "metadata": {},
   "outputs": [],
   "source": [
    "for source, destination, data in G.edges(keys=False, data=True):\n",
    "    Edges.append((source, destination, data['length']))"
   ]
  },
  {
   "cell_type": "markdown",
   "metadata": {},
   "source": [
    "We need to maintan disjoint set for the edges and nodes to keep track of what node is connected to what node and avoid loops"
   ]
  },
  {
   "cell_type": "code",
   "execution_count": null,
   "metadata": {},
   "outputs": [],
   "source": [
    "# disjoint set for the edges\n",
    "nodes_set = {}\n",
    "for i in Edges.heap:\n",
    "    nodes_set[i[1][0]] = -1\n",
    "    nodes_set[i[1][1]] = -1"
   ]
  },
  {
   "cell_type": "code",
   "execution_count": null,
   "metadata": {},
   "outputs": [],
   "source": [
    "# returns -1 if the node has not been attached to other node on the run time\n",
    "def find_parent(node):\n",
    "    r = node\n",
    "    while nodes_set[r] >= 0:\n",
    "        r = nodes_set[r]\n",
    "    return r"
   ]
  },
  {
   "cell_type": "markdown",
   "metadata": {},
   "source": [
    "# The Algorithm"
   ]
  },
  {
   "cell_type": "code",
   "execution_count": null,
   "metadata": {},
   "outputs": [],
   "source": [
    "# super easy if you spend 5 mins thinking about it\n",
    "# the premise of the algorithm is just to avoid loop\n",
    "# and add edges greedily\n",
    "# The algorithm build forestS over each connected component in the graph\n",
    "# which will diverge to a single tree over each component at the end of the algorithm\n",
    "Forest = set()\n",
    "Size = 0\n",
    "j = 0\n",
    "m = len(Edges)\n",
    "n = len(G.nodes)\n",
    "while Size < n and j < m:\n",
    "    j += 1\n",
    "    # the shortest edge till this point\n",
    "    edge = Edges.pop()\n",
    "    node1 = edge[0]\n",
    "    node2 = edge[1]\n",
    "    parent1 = find_parent(node1)\n",
    "    parent2 = find_parent(node2)\n",
    "    if parent1 != parent2:\n",
    "        Forest.add(edge)\n",
    "        Size += 1\n",
    "        nodes_set[node1] = node2"
   ]
  },
  {
   "cell_type": "markdown",
   "metadata": {},
   "source": [
    "# Visulaization"
   ]
  },
  {
   "cell_type": "code",
   "execution_count": null,
   "metadata": {},
   "outputs": [],
   "source": [
    "sources = [edge[0] for edge in Forest]\n",
    "destinations = [edge[1] for edge in Forest]"
   ]
  },
  {
   "cell_type": "code",
   "execution_count": null,
   "metadata": {},
   "outputs": [],
   "source": [
    "fig, ax =  plt.subplots(figsize=(15, 11))\n",
    "ax.set_facecolor('w')\n",
    "lines = []\n",
    "colorS = []\n",
    "widthS = []\n",
    "for u, v, data in G.edges(keys=False, data=True):\n",
    "        if 'geometry' in data:\n",
    "            xs, ys = data['geometry'].xy\n",
    "            lines.append(list(zip(xs, ys)))\n",
    "        else:\n",
    "            x1 = G.nodes[u]['x']\n",
    "            y1 = G.nodes[u]['y']\n",
    "            x2 = G.nodes[v]['x']\n",
    "            y2 = G.nodes[v]['y']\n",
    "            line = [(x1, y1), (x2, y2)]\n",
    "            lines.append(line)\n",
    "        if u in sources and v in destinations:\n",
    "            colorS.append('b')\n",
    "            widthS.append(2.5)\n",
    "            continue\n",
    "        if v in sources and u in destinations:\n",
    "            colorS.append('b')\n",
    "            widthS.append(2.5)\n",
    "            continue\n",
    "        colorS.append('r')\n",
    "        widthS.append(0.4)    \n",
    "lc = LineCollection(lines, colors=colorS, linewidths=widthS, alpha=0.3)\n",
    "ax.add_collection(lc)\n",
    "scat = ax.scatter(node_Xs, node_Ys,c='k', s=5)"
   ]
  },
  {
   "cell_type": "markdown",
   "metadata": {},
   "source": [
    "These loops which you are seeing and these many components over the graph are caused by the presence of one-way streets, don't let it fool you."
   ]
  },
  {
   "cell_type": "code",
   "execution_count": null,
   "metadata": {},
   "outputs": [],
   "source": []
  }
 ],
 "metadata": {
  "kernelspec": {
   "display_name": "Python 3",
   "language": "python",
   "name": "python3"
  },
  "language_info": {
   "codemirror_mode": {
    "name": "ipython",
    "version": 3
   },
   "file_extension": ".py",
   "mimetype": "text/x-python",
   "name": "python",
   "nbconvert_exporter": "python",
   "pygments_lexer": "ipython3",
   "version": "3.6.9"
  }
 },
 "nbformat": 4,
 "nbformat_minor": 4
}
