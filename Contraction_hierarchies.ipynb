{
 "cells": [
  {
   "cell_type": "code",
   "execution_count": 1,
   "metadata": {},
   "outputs": [],
   "source": [
    "import networkx as nx\n",
    "import random\n",
    "import math"
   ]
  },
  {
   "cell_type": "code",
   "execution_count": 2,
   "metadata": {},
   "outputs": [],
   "source": [
    "G = nx.Graph()"
   ]
  },
  {
   "cell_type": "code",
   "execution_count": 3,
   "metadata": {},
   "outputs": [],
   "source": [
    "G.add_node(1,contracted=False)\n",
    "G.add_node(2,contracted=False)\n",
    "G.add_node(3,contracted=False)\n",
    "G.add_node(4,contracted=False)\n",
    "G.add_node(5,contracted=False)\n",
    "G.add_node(6,contracted=False)\n",
    "G.add_node(7,contracted=False)\n",
    "G.add_node(8,contracted=False)\n",
    "G.add_node(9,contracted=False)\n",
    "G.add_node(10,contracted=False)\n",
    "G.add_node(11,contracted=False)\n",
    "G.add_node(12,contracted=False)\n",
    "G.add_node(13,contracted=False)\n",
    "G.add_node(14,contracted=False)"
   ]
  },
  {
   "cell_type": "code",
   "execution_count": 4,
   "metadata": {},
   "outputs": [],
   "source": [
    "edges = [\n",
    "    (1,2,{'weight':10}),\n",
    "    (1,3,{'weight':4}),\n",
    "    (1,7,{'weight':7}),\n",
    "    (2,3,{'weight':5}),\n",
    "    (2,4,{'weight':2}),\n",
    "    (3,4,{'weight':2}),\n",
    "    (3,6,{'weight':1}),\n",
    "    (4,5,{'weight':5}),\n",
    "    (5,10,{'weight':7}),\n",
    "    (6,7,{'weight':4}),\n",
    "    (6,5,{'weight':3}),\n",
    "    (6,9,{'weight':1}),\n",
    "    (7,8,{'weight':6}),\n",
    "    (8,9,{'weight':3}),\n",
    "    (8,13,{'weight':5}),\n",
    "    (9,12,{'weight':1}),\n",
    "    (9,10,{'weight':3}),\n",
    "    (10,11,{'weight':4}),\n",
    "    (11,12,{'weight':3}),\n",
    "    (11,13,{'weight':4}),\n",
    "    (12,13,{'weight':2})\n",
    "]"
   ]
  },
  {
   "cell_type": "code",
   "execution_count": 5,
   "metadata": {},
   "outputs": [
    {
     "data": {
      "image/png": "[encoded data removed]",
      "text/plain": [
       "<Figure size 432x288 with 1 Axes>"
      ]
     },
     "metadata": {},
     "output_type": "display_data"
    }
   ],
   "source": [
    "G.add_edges_from([*edges])\n",
    "nx.draw(G,with_labels=True)"
   ]
  },
  {
   "cell_type": "code",
   "execution_count": 20,
   "metadata": {},
   "outputs": [],
   "source": [
    "nx.set_node_attributes(G, {2: False}, 'contracted')"
   ]
  },
  {
   "cell_type": "code",
   "execution_count": 14,
   "metadata": {},
   "outputs": [
    {
     "data": {
      "text/plain": [
       "{1: False,\n",
       " 2: True,\n",
       " 3: False,\n",
       " 4: False,\n",
       " 5: False,\n",
       " 6: False,\n",
       " 7: False,\n",
       " 8: False,\n",
       " 9: False,\n",
       " 10: False,\n",
       " 11: False,\n",
       " 12: False,\n",
       " 13: False,\n",
       " 14: False}"
      ]
     },
     "execution_count": 14,
     "metadata": {},
     "output_type": "execute_result"
    }
   ],
   "source": [
    "nx.get_node_attributes(G,'contracted')"
   ]
  },
  {
   "cell_type": "code",
   "execution_count": 22,
   "metadata": {},
   "outputs": [],
   "source": [
    "def dijkstra_with_contraction(G, source, destination, contracted = None):\n",
    "    nx.set_node_attributes(G, {contracted: True}, 'contracted')\n",
    "        \n",
    "    shortest_path = dict()\n",
    "    heap = list()\n",
    "    \n",
    "    for i in G.nodes():\n",
    "        if not nx.get_node_attributes(G, 'contracted')[i]:\n",
    "            shortest_path[i] = math.inf\n",
    "            heap.append(i)\n",
    "    shortest_path[source] = 0\n",
    "    \n",
    "    while len(heap) > 0:\n",
    "        q = min(heap, key = lambda node : shortest_path[node])\n",
    "        if q == destination: return shortest_path[q]\n",
    "        heap.remove(q)\n",
    "        for v in G[q]:\n",
    "            if not nx.get_node_attributes(G, 'contracted')[v]:\n",
    "                distance = shortest_path[q] + G[q][v]['weight']\n",
    "                if distance < shortest_path[v]:\n",
    "                    shortest_path[v] = distance\n",
    "    nx.set_node_attributes(G, {contracted: False}, 'contracted')\n",
    "    return math.inf"
   ]
  },
  {
   "cell_type": "code",
   "execution_count": 23,
   "metadata": {},
   "outputs": [],
   "source": [
    "shortest_paths = dict()"
   ]
  },
  {
   "cell_type": "code",
   "execution_count": 24,
   "metadata": {},
   "outputs": [
    {
     "name": "stdout",
     "output_type": "stream",
     "text": [
      "CPU times: user 3 µs, sys: 1 µs, total: 4 µs\n",
      "Wall time: 6.68 µs\n"
     ]
    }
   ],
   "source": [
    "%time\n",
    "for i in G.nodes():\n",
    "    shortest_paths[i] = dict()\n",
    "    for v in G.nodes():\n",
    "        shortest_paths[i][v] = dijkstra_with_contraction(G, i, v,contracted=1)"
   ]
  },
  {
   "cell_type": "code",
   "execution_count": 25,
   "metadata": {},
   "outputs": [
    {
     "data": {
      "text/plain": [
       "{1: True,\n",
       " 2: False,\n",
       " 3: False,\n",
       " 4: False,\n",
       " 5: False,\n",
       " 6: False,\n",
       " 7: False,\n",
       " 8: False,\n",
       " 9: False,\n",
       " 10: False,\n",
       " 11: False,\n",
       " 12: False,\n",
       " 13: False,\n",
       " 14: False}"
      ]
     },
     "execution_count": 25,
     "metadata": {},
     "output_type": "execute_result"
    }
   ],
   "source": [
    "nx.get_node_attributes(G,'contracted')"
   ]
  },
  {
   "cell_type": "code",
   "execution_count": 26,
   "metadata": {},
   "outputs": [
    {
     "data": {
      "text/plain": [
       "{1: {1: inf,\n",
       "  2: inf,\n",
       "  3: inf,\n",
       "  4: inf,\n",
       "  5: inf,\n",
       "  6: inf,\n",
       "  7: inf,\n",
       "  8: inf,\n",
       "  9: inf,\n",
       "  10: inf,\n",
       "  11: inf,\n",
       "  12: inf,\n",
       "  13: inf,\n",
       "  14: inf},\n",
       " 2: {1: inf,\n",
       "  2: 0,\n",
       "  3: 4,\n",
       "  4: 2,\n",
       "  5: 7,\n",
       "  6: 5,\n",
       "  7: 9,\n",
       "  8: 9,\n",
       "  9: 6,\n",
       "  10: 9,\n",
       "  11: 10,\n",
       "  12: 7,\n",
       "  13: 9,\n",
       "  14: inf},\n",
       " 3: {1: inf,\n",
       "  2: 4,\n",
       "  3: 0,\n",
       "  4: 2,\n",
       "  5: 4,\n",
       "  6: 1,\n",
       "  7: 5,\n",
       "  8: 5,\n",
       "  9: 2,\n",
       "  10: 5,\n",
       "  11: 6,\n",
       "  12: 3,\n",
       "  13: 5,\n",
       "  14: inf},\n",
       " 4: {1: inf,\n",
       "  2: 2,\n",
       "  3: 2,\n",
       "  4: 0,\n",
       "  5: 5,\n",
       "  6: 3,\n",
       "  7: 7,\n",
       "  8: 7,\n",
       "  9: 4,\n",
       "  10: 7,\n",
       "  11: 8,\n",
       "  12: 5,\n",
       "  13: 7,\n",
       "  14: inf},\n",
       " 5: {1: inf,\n",
       "  2: 7,\n",
       "  3: 4,\n",
       "  4: 5,\n",
       "  5: 0,\n",
       "  6: 3,\n",
       "  7: 7,\n",
       "  8: 7,\n",
       "  9: 4,\n",
       "  10: 7,\n",
       "  11: 8,\n",
       "  12: 5,\n",
       "  13: 7,\n",
       "  14: inf},\n",
       " 6: {1: inf,\n",
       "  2: 5,\n",
       "  3: 1,\n",
       "  4: 3,\n",
       "  5: 3,\n",
       "  6: 0,\n",
       "  7: 4,\n",
       "  8: 4,\n",
       "  9: 1,\n",
       "  10: 4,\n",
       "  11: 5,\n",
       "  12: 2,\n",
       "  13: 4,\n",
       "  14: inf},\n",
       " 7: {1: inf,\n",
       "  2: 9,\n",
       "  3: 5,\n",
       "  4: 7,\n",
       "  5: 7,\n",
       "  6: 4,\n",
       "  7: 0,\n",
       "  8: 6,\n",
       "  9: 5,\n",
       "  10: 8,\n",
       "  11: 9,\n",
       "  12: 6,\n",
       "  13: 8,\n",
       "  14: inf},\n",
       " 8: {1: inf,\n",
       "  2: 9,\n",
       "  3: 5,\n",
       "  4: 7,\n",
       "  5: 7,\n",
       "  6: 4,\n",
       "  7: 6,\n",
       "  8: 0,\n",
       "  9: 3,\n",
       "  10: 6,\n",
       "  11: 7,\n",
       "  12: 4,\n",
       "  13: 5,\n",
       "  14: inf},\n",
       " 9: {1: inf,\n",
       "  2: 6,\n",
       "  3: 2,\n",
       "  4: 4,\n",
       "  5: 4,\n",
       "  6: 1,\n",
       "  7: 5,\n",
       "  8: 3,\n",
       "  9: 0,\n",
       "  10: 3,\n",
       "  11: 4,\n",
       "  12: 1,\n",
       "  13: 3,\n",
       "  14: inf},\n",
       " 10: {1: inf,\n",
       "  2: 9,\n",
       "  3: 5,\n",
       "  4: 7,\n",
       "  5: 7,\n",
       "  6: 4,\n",
       "  7: 8,\n",
       "  8: 6,\n",
       "  9: 3,\n",
       "  10: 0,\n",
       "  11: 4,\n",
       "  12: 4,\n",
       "  13: 6,\n",
       "  14: inf},\n",
       " 11: {1: inf,\n",
       "  2: 10,\n",
       "  3: 6,\n",
       "  4: 8,\n",
       "  5: 8,\n",
       "  6: 5,\n",
       "  7: 9,\n",
       "  8: 7,\n",
       "  9: 4,\n",
       "  10: 4,\n",
       "  11: 0,\n",
       "  12: 3,\n",
       "  13: 4,\n",
       "  14: inf},\n",
       " 12: {1: inf,\n",
       "  2: 7,\n",
       "  3: 3,\n",
       "  4: 5,\n",
       "  5: 5,\n",
       "  6: 2,\n",
       "  7: 6,\n",
       "  8: 4,\n",
       "  9: 1,\n",
       "  10: 4,\n",
       "  11: 3,\n",
       "  12: 0,\n",
       "  13: 2,\n",
       "  14: inf},\n",
       " 13: {1: inf,\n",
       "  2: 9,\n",
       "  3: 5,\n",
       "  4: 7,\n",
       "  5: 7,\n",
       "  6: 4,\n",
       "  7: 8,\n",
       "  8: 5,\n",
       "  9: 3,\n",
       "  10: 6,\n",
       "  11: 4,\n",
       "  12: 2,\n",
       "  13: 0,\n",
       "  14: inf},\n",
       " 14: {1: inf,\n",
       "  2: inf,\n",
       "  3: inf,\n",
       "  4: inf,\n",
       "  5: inf,\n",
       "  6: inf,\n",
       "  7: inf,\n",
       "  8: inf,\n",
       "  9: inf,\n",
       "  10: inf,\n",
       "  11: inf,\n",
       "  12: inf,\n",
       "  13: inf,\n",
       "  14: 0}}"
      ]
     },
     "execution_count": 26,
     "metadata": {},
     "output_type": "execute_result"
    }
   ],
   "source": [
    "shortest_paths"
   ]
  },
  {
   "cell_type": "code",
   "execution_count": null,
   "metadata": {},
   "outputs": [],
   "source": [
    "edge_difference = []"
   ]
  },
  {
   "cell_type": "code",
   "execution_count": null,
   "metadata": {},
   "outputs": [],
   "source": [
    "for i in G.nodes():\n",
    "    edges_incident = len(G[i])\n",
    "    \n",
    "    contracted_node_paths = shortest_paths[i]\n",
    "    del shortest_paths[i]\n",
    "    \n",
    "    new_graph = [*G.nodes()]\n",
    "    new_graph.remove(i)\n",
    "    \n",
    "    new_shortest_paths = dict()\n",
    "    \n",
    "    for source in new_graph:\n",
    "        new_shortest_paths[source] = dict()\n",
    "        for destination in new_graph:\n",
    "            new_shortest_paths[source][destination] = dijkstra_with_contraction(G, source, destination, contracted = i)\n",
    "    print(i)\n",
    "    print(new_shortest_paths)\n",
    "    print(\"..............\")\n",
    "            \n",
    "    shortest_paths[i] = contracted_node_paths"
   ]
  },
  {
   "cell_type": "code",
   "execution_count": null,
   "metadata": {},
   "outputs": [],
   "source": [
    "shortest_paths"
   ]
  },
  {
   "cell_type": "code",
   "execution_count": null,
   "metadata": {},
   "outputs": [],
   "source": [
    "v = [*G.nodes()]"
   ]
  },
  {
   "cell_type": "code",
   "execution_count": null,
   "metadata": {},
   "outputs": [],
   "source": [
    "v.remove(1)"
   ]
  },
  {
   "cell_type": "code",
   "execution_count": null,
   "metadata": {},
   "outputs": [],
   "source": [
    "v"
   ]
  },
  {
   "cell_type": "code",
   "execution_count": null,
   "metadata": {},
   "outputs": [],
   "source": []
  }
 ],
 "metadata": {
  "kernelspec": {
   "display_name": "Python 3",
   "language": "python",
   "name": "python3"
  },
  "language_info": {
   "codemirror_mode": {
    "name": "ipython",
    "version": 3
   },
   "file_extension": ".py",
   "mimetype": "text/x-python",
   "name": "python",
   "nbconvert_exporter": "python",
   "pygments_lexer": "ipython3",
   "version": "3.6.9"
  }
 },
 "nbformat": 4,
 "nbformat_minor": 4
}
