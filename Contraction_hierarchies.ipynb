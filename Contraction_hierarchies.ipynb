{
 "cells": [
  {
   "cell_type": "code",
   "execution_count": 1,
   "metadata": {},
   "outputs": [],
   "source": [
    "%%capture\n",
    "!pip3 install networkx"
   ]
  },
  {
   "cell_type": "code",
   "execution_count": 2,
   "metadata": {},
   "outputs": [],
   "source": [
    "import networkx as nx\n",
    "import random\n",
    "import math"
   ]
  },
  {
   "cell_type": "code",
   "execution_count": 3,
   "metadata": {},
   "outputs": [],
   "source": [
    "G = nx.Graph()"
   ]
  },
  {
   "cell_type": "code",
   "execution_count": 4,
   "metadata": {},
   "outputs": [],
   "source": [
    "G.add_node(1,contracted=False)\n",
    "G.add_node(2,contracted=False)\n",
    "G.add_node(3,contracted=False)\n",
    "G.add_node(4,contracted=False)\n",
    "G.add_node(5,contracted=False)\n",
    "G.add_node(6,contracted=False)\n",
    "G.add_node(7,contracted=False)\n",
    "G.add_node(8,contracted=False)\n",
    "G.add_node(9,contracted=False)\n",
    "G.add_node(10,contracted=False)\n",
    "G.add_node(11,contracted=False)\n",
    "G.add_node(12,contracted=False)\n",
    "G.add_node(13,contracted=False)\n",
    "G.add_node(14,contracted=False)"
   ]
  },
  {
   "cell_type": "code",
   "execution_count": 5,
   "metadata": {},
   "outputs": [],
   "source": [
    "edges = [\n",
    "    (1,2,{'weight':10}),\n",
    "    (1,3,{'weight':4}),\n",
    "    (1,7,{'weight':7}),\n",
    "    (2,3,{'weight':5}),\n",
    "    (2,4,{'weight':2}),\n",
    "    (3,4,{'weight':2}),\n",
    "    (3,6,{'weight':1}),\n",
    "    (4,5,{'weight':5}),\n",
    "    (5,10,{'weight':7}),\n",
    "    (6,7,{'weight':4}),\n",
    "    (6,5,{'weight':3}),\n",
    "    (6,9,{'weight':1}),\n",
    "    (7,8,{'weight':6}),\n",
    "    (8,9,{'weight':3}),\n",
    "    (8,13,{'weight':5}),\n",
    "    (9,12,{'weight':1}),\n",
    "    (9,10,{'weight':3}),\n",
    "    (10,11,{'weight':4}),\n",
    "    (11,12,{'weight':3}),\n",
    "    (11,13,{'weight':4}),\n",
    "    (12,13,{'weight':2})\n",
    "]"
   ]
  },
  {
   "cell_type": "code",
   "execution_count": 6,
   "metadata": {},
   "outputs": [
    {
     "data": {
      "image/png": "[encoded data removed]",
      "text/plain": [
       "<Figure size 432x288 with 1 Axes>"
      ]
     },
     "metadata": {},
     "output_type": "display_data"
    }
   ],
   "source": [
    "G.add_edges_from([*edges])\n",
    "nx.draw(G,with_labels=True)"
   ]
  },
  {
   "cell_type": "code",
   "execution_count": 7,
   "metadata": {},
   "outputs": [],
   "source": [
    "def dijkstra_with_contraction(G, source, destination, contracted = None):\n",
    "    nx.set_node_attributes(G, {contracted: True}, 'contracted')\n",
    "        \n",
    "    shortest_path = dict()\n",
    "    heap = list()\n",
    "    \n",
    "    for i in G.nodes():\n",
    "        if not nx.get_node_attributes(G, 'contracted')[i]:\n",
    "            shortest_path[i] = math.inf\n",
    "            heap.append(i)\n",
    "    shortest_path[source] = 0\n",
    "    \n",
    "    while len(heap) > 0:\n",
    "        q = min(heap, key = lambda node : shortest_path[node])\n",
    "        if q == destination:\n",
    "            nx.set_node_attributes(G, {contracted: False}, 'contracted')\n",
    "            return shortest_path[q]\n",
    "        heap.remove(q)\n",
    "        for v in G[q]:\n",
    "            if not nx.get_node_attributes(G, 'contracted')[v]:\n",
    "                distance = shortest_path[q] + G[q][v]['weight']\n",
    "                if distance < shortest_path[v]:\n",
    "                    shortest_path[v] = distance\n",
    "    nx.set_node_attributes(G, {contracted: False}, 'contracted')\n",
    "    return math.inf"
   ]
  },
  {
   "cell_type": "code",
   "execution_count": 8,
   "metadata": {},
   "outputs": [],
   "source": [
    "shortest_paths = dict()\n",
    "for i in G.nodes():\n",
    "    shortest_paths[i] = dict()\n",
    "    for j in G.nodes():\n",
    "        shortest_paths[i][j] = dijkstra_with_contraction(G, i, j)"
   ]
  },
  {
   "cell_type": "code",
   "execution_count": 9,
   "metadata": {},
   "outputs": [],
   "source": [
    "def calculate_edge_difference(G, shortest_paths):\n",
    "    edge_difference = list()\n",
    "    seenBefore = list()\n",
    "    for i in G.nodes():\n",
    "        edges_incident = len(G[i])\n",
    "\n",
    "        contracted_node_paths = shortest_paths[i]\n",
    "        del shortest_paths[i]\n",
    "\n",
    "        new_graph = [*G.nodes()] # excluding the node that we have just contracted\n",
    "        new_graph.remove(i)\n",
    "\n",
    "        new_shortest_paths = dict()\n",
    "\n",
    "        for source in new_graph:\n",
    "            new_shortest_paths[source] = dict()\n",
    "            for destination in new_graph:\n",
    "                new_shortest_paths[source][destination] = dijkstra_with_contraction(G, \\\n",
    "                                                                                    source, \\\n",
    "                                                                                    destination, \\\n",
    "                                                                                    contracted = i)\n",
    "        shortcuts = 0\n",
    "\n",
    "        for source in new_shortest_paths:\n",
    "            SP_contracted = new_shortest_paths[source]\n",
    "            SP_original = shortest_paths[source]\n",
    "            for destination in SP_contracted:\n",
    "                if [source, destination] in seenBefore: continue\n",
    "                seenBefore.append(sorted((source,destination)))\n",
    "                if SP_contracted[destination] != SP_original[destination]:\n",
    "                    shortcuts += 1\n",
    "\n",
    "        shortest_paths[i] = contracted_node_paths\n",
    "\n",
    "        ED = shortcuts - edges_incident\n",
    "        edge_difference.append((i, ED))\n",
    "    return edge_difference"
   ]
  },
  {
   "cell_type": "code",
   "execution_count": 10,
   "metadata": {},
   "outputs": [],
   "source": [
    "edge_difference = calculate_edge_difference(G, shortest_paths)"
   ]
  },
  {
   "cell_type": "code",
   "execution_count": 11,
   "metadata": {},
   "outputs": [
    {
     "data": {
      "text/plain": [
       "[(1, -3),\n",
       " (2, -3),\n",
       " (5, -3),\n",
       " (7, -3),\n",
       " (8, -3),\n",
       " (10, -3),\n",
       " (11, -3),\n",
       " (13, -3),\n",
       " (14, 0),\n",
       " (4, 8),\n",
       " (12, 15),\n",
       " (3, 23),\n",
       " (9, 34),\n",
       " (6, 36)]"
      ]
     },
     "execution_count": 11,
     "metadata": {},
     "output_type": "execute_result"
    }
   ],
   "source": [
    "edge_difference.sort(key = lambda pair : pair[1])\n",
    "edge_difference"
   ]
  },
  {
   "cell_type": "code",
   "execution_count": 12,
   "metadata": {},
   "outputs": [],
   "source": [
    "current_graph = [*G.nodes()]\n",
    "\n",
    "for node_ED in edge_difference:\n",
    "    node = node_ED[0]\n",
    "    nx.set_node_attributes(G, {node: True}, 'contracted')\n",
    "    \n",
    "    # we have already contracted the node\n",
    "    # so there is no need \n",
    "    new_graph = current_graph\n",
    "    new_graph.remove(node)\n",
    "    current_shortest_paths = dict()\n",
    "    for source in new_graph:\n",
    "            current_shortest_paths[source] = dict()\n",
    "            for destination in new_graph:\n",
    "                current_shortest_paths[source][destination] = dijkstra_with_contraction(G, \\\n",
    "                                                                                    source, \\\n",
    "                                                                                    destination)\n",
    "    for source in current_shortest_paths:\n",
    "        SP_contracted = current_shortest_paths[source]\n",
    "        SP_original = shortest_paths[source]\n",
    "        for destination in SP_contracted:\n",
    "            if source == destination: continue\n",
    "            if SP_contracted[destination] != SP_original[destination]:\n",
    "                G.add_edge(source, destination, weight=SP_original[destination])\n",
    "                \n",
    "    \n",
    "    current_graph = new_graph"
   ]
  },
  {
   "cell_type": "code",
   "execution_count": null,
   "metadata": {},
   "outputs": [],
   "source": []
  }
 ],
 "metadata": {
  "kernelspec": {
   "display_name": "Python 3",
   "language": "python",
   "name": "python3"
  },
  "language_info": {
   "codemirror_mode": {
    "name": "ipython",
    "version": 3
   },
   "file_extension": ".py",
   "mimetype": "text/x-python",
   "name": "python",
   "nbconvert_exporter": "python",
   "pygments_lexer": "ipython3",
   "version": "3.6.9"
  }
 },
 "nbformat": 4,
 "nbformat_minor": 4
}
