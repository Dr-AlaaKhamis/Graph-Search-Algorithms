{
 "cells": [
  {
   "cell_type": "markdown",
   "metadata": {},
   "source": [
    "# Minimum Spanning Tree"
   ]
  },
  {
   "cell_type": "markdown",
   "metadata": {},
   "source": [
    "Given a spanning tree $T$ in a graph $G$ with a weight $w$ and edges $E$, the weight $w$ of $T$ is the sum of weights of its edges. If $T$ has the minimum weight over all spanning trees of $G$, we call $T$ a *minimum spanning tree*."
   ]
  },
  {
   "cell_type": "markdown",
   "metadata": {},
   "source": [
    "## Disjoint Sets"
   ]
  },
  {
   "cell_type": "markdown",
   "metadata": {},
   "source": [
    "Before going any further and introducing the algorithm that generates the minimum spanning $T$ given graph $G$, we need to discuss disjoint sets, like set of vertices $V$. The main operations on disjoing sets which are interesting to us, are **finding** the set containing a given element and forming the **union** of two sets, like having multiple sets of vertices of different spanning trees."
   ]
  },
  {
   "cell_type": "markdown",
   "metadata": {},
   "source": [
    "### Parent Array"
   ]
  },
  {
   "cell_type": "markdown",
   "metadata": {},
   "source": [
    "Okay you have got your set $S$ which contains all $n = 12$ vertices of the graph, so $S = \\{0, 1, 2, 3, 4, 5, 6, 7, 8, 9, 10, 11\\}$  and if we want to partition them into five sets for further processing, and maybe getting minimum spanning tree, into $k = 5$ *disjoint* set, imagine that these disjoint sets represent a single spanning tree in the graphy, so anyways the vertices set would be $S = \\{\\{0, 1, 2\\}, \\{3, 4\\}, \\{5, 6, 7, 8\\}, \\{9, 10\\}, \\{11\\}\\}$. We need to be quick and fast in maintain these set, so we need to refer to each set by the root of the given disjoint set (root of the tree)."
   ]
  },
  {
   "cell_type": "markdown",
   "metadata": {},
   "source": [
    "Here comes the idea of maintaining parent array that stores the parent of each element (node). The root wouldn't have a parent so its value in the parent array would be $-1$. Here is an example of the set above, think about them as trees in the graph.\n",
    "\n",
    "###### Unfortunately it isn't possible to name a given node as a number so we needed to use underscore before the number"
   ]
  },
  {
   "cell_type": "code",
   "execution_count": 1,
   "metadata": {},
   "outputs": [
    {
     "data": {
      "image/png": "[encoded data removed]",
      "text/plain": [
       "<Figure size 1296x216 with 1 Axes>"
      ]
     },
     "metadata": {},
     "output_type": "display_data"
    }
   ],
   "source": [
    "from figures import *; disjoint_forest()"
   ]
  },
  {
   "cell_type": "markdown",
   "metadata": {},
   "source": [
    "For $V[i], i = 0,1,2, ... , 11$ \n",
    "$$V[i]      =  [0, 1, 2, 3, 4, 5, 6, 7, 8, 9, 10, 11]$$\n",
    "$$Parent[i] =  [-1, 0, 0, -1, 3, -1, 5, 5, 5, 10, -1, -1]$$"
   ]
  },
  {
   "cell_type": "markdown",
   "metadata": {},
   "source": [
    "So now we have a forest $F$ from the set of vertices $S$ and in $F$/$S$ we have multiple trees/disjoint sets... we are getting really close"
   ]
  },
  {
   "cell_type": "markdown",
   "metadata": {},
   "source": [
    "### Find Algorithm"
   ]
  },
  {
   "cell_type": "markdown",
   "metadata": {},
   "source": [
    "Given a vertex $i$ in a certain tree/disjoint set, we want to know the root of that tree."
   ]
  },
  {
   "cell_type": "markdown",
   "metadata": {},
   "source": [
    "\n",
    "__FIND__(Parent\\[0:n-1\\], i) __returns__ The root of disjoint set that contains V\\[i\\]  \n",
    "&emsp;_r_ &larr; _V\\[i\\]_\n",
    "\n",
    "&emsp;__while__ Parent\\[_r_\\] >= 0 __do__\n",
    "\n",
    "&emsp;&emsp;_r_ &larr; Parent\\[_r_\\]\n",
    "\n",
    "&emsp;__endwhile__\n",
    "\n",
    "&emsp;__return__ _r_"
   ]
  },
  {
   "cell_type": "markdown",
   "metadata": {},
   "source": [
    "I guess that it isn't super hard to see how that would work, but please notice that the complexity of the **FIND** algorithm depends on the depths of the trees in $F$, that would be a our only concern in the **UNION** algorithm that follows."
   ]
  },
  {
   "cell_type": "markdown",
   "metadata": {},
   "source": [
    "### Union Algorithm"
   ]
  },
  {
   "cell_type": "markdown",
   "metadata": {},
   "source": [
    "We have two disjoint sets and want to join them together and still have a single root for the resulted set and alter the value of the $Parent$ array"
   ]
  },
  {
   "cell_type": "markdown",
   "metadata": {},
   "source": [
    "I will be showing how that would work on an example similar to the above "
   ]
  },
  {
   "cell_type": "code",
   "execution_count": null,
   "metadata": {},
   "outputs": [],
   "source": []
  }
 ],
 "metadata": {
  "kernelspec": {
   "display_name": "Python 3",
   "language": "python",
   "name": "python3"
  },
  "language_info": {
   "codemirror_mode": {
    "name": "ipython",
    "version": 3
   },
   "file_extension": ".py",
   "mimetype": "text/x-python",
   "name": "python",
   "nbconvert_exporter": "python",
   "pygments_lexer": "ipython3",
   "version": "3.6.9"
  }
 },
 "nbformat": 4,
 "nbformat_minor": 4
}
