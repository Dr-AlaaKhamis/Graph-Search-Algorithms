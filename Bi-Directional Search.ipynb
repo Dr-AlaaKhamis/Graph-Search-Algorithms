{
 "cells": [
  {
   "cell_type": "markdown",
   "metadata": {},
   "source": [
    "# Bi-directional Search\n",
    "\n",
    "The point of bidirectional search is to run two simultaneous, not parallel, search from the origin and destination node hoping that they would meet in the middle.  \n",
    "\n",
    "**but** what is the point?  \n",
    "\n",
    "Imagine that you are doing BFS with complexity in a graph with a constant branching factor $b$ and depth $d$ so the complexity would be $O({d}^b)$ but what if we split that depth $d$ in half (that usually doesn't happen) so the total complexity would be $O({(d/2)}^b) + O({(d/2)}^b)$ which is in total much lower than $O({d}^b)$.  \n",
    "\n",
    "Let's see some pictures, sorry for the paint-level editing in advance."
   ]
  },
  {
   "cell_type": "markdown",
   "metadata": {},
   "source": [
    "This is a uni-directional breadth first search."
   ]
  },
  {
   "cell_type": "markdown",
   "metadata": {},
   "source": [
    "![title](./data/Uni-BFS.png)"
   ]
  },
  {
   "cell_type": "markdown",
   "metadata": {},
   "source": [
    "This is bi-directional breadth first search"
   ]
  },
  {
   "cell_type": "markdown",
   "metadata": {},
   "source": [
    "![title](./data/Bi-BFS.jpg)"
   ]
  },
  {
   "cell_type": "markdown",
   "metadata": {},
   "source": [
    "As you can see how many (blue) nodes that didn't contribute to the solution didn't get expanded in the bi-driectional search, cutting complexity and consumed resources drastically."
   ]
  },
  {
   "cell_type": "markdown",
   "metadata": {},
   "source": [
    "# The Algorithm"
   ]
  },
  {
   "cell_type": "code",
   "execution_count": null,
   "metadata": {},
   "outputs": [],
   "source": [
    "%%capture\n",
    "\n",
    "##############################################################################\n",
    "# IGNORE if you are running on a local machine and have all the dependencies #\n",
    "##############################################################################\n",
    "\n",
    "# installing dependencies --- to be able to run on google colab\n",
    "# it would take 2-3 minutes\n",
    "!apt-get install libspatialindex-c4v5;\n",
    "!pip3 install Rtree;\n",
    "!pip3 install osmnx;\n",
    "!pip3 install tqdm;\n",
    "\n",
    "# you HAVE to upload a number of files and folders used in the code\n",
    "# problem.py - utils.py - data files inside directory named data\n",
    "# upload them in the home directory --- don't go into any folder, just press upload button\n",
    "# and choose these files and folders\n",
    "# so tthe directory should be \n",
    "#|- data/       |- graph.html\n",
    "#|              |- route.html \n",
    "#|- sample_data/ \n",
    "#|- problem.py\n",
    "#|- utils.py"
   ]
  },
  {
   "cell_type": "code",
   "execution_count": null,
   "metadata": {},
   "outputs": [],
   "source": [
    "import osmnx as ox\n",
    "import networkx as nx\n",
    "from tqdm import tqdm\n",
    "import time\n",
    "from IPython.display import IFrame, HTML\n",
    "from collections import deque\n",
    "import matplotlib.pyplot as plt\n",
    "from tqdm import tqdm\n",
    "from problem import *\n",
    "from utils import *"
   ]
  },
  {
   "cell_type": "markdown",
   "metadata": {},
   "source": [
    "let's load our beloved UofT map"
   ]
  },
  {
   "cell_type": "code",
   "execution_count": null,
   "metadata": {},
   "outputs": [],
   "source": [
    "location_point = (43.661667, -79.395)\n",
    "G = ox.graph_from_point(location_point, dist=300, clean_periphery=True, simplify=True)\n",
    "graph_map = ox.plot_graph_folium(G, popup_attribute='name', edge_width=2)\n",
    "fig, ax = ox.plot_graph(G)"
   ]
  },
  {
   "cell_type": "code",
   "execution_count": null,
   "metadata": {},
   "outputs": [],
   "source": [
    "# marking both the source and destination node\n",
    "\n",
    "nc = ['r' if node == 389677909 or node == 55808290 else '#336699' for node in G.nodes()]\n",
    "ns = [50 if node == 389677909 or node == 55808290 else 8 for node in G.nodes()]\n",
    "fig, ax = ox.plot_graph(G, node_size=ns, node_color=nc, node_zorder=2)"
   ]
  },
  {
   "cell_type": "code",
   "execution_count": null,
   "metadata": {},
   "outputs": [],
   "source": [
    "%%capture\n",
    "source(Node)"
   ]
  },
  {
   "cell_type": "markdown",
   "metadata": {},
   "source": [
    "We are implementing A* based bi-directional search algorithm, so our criteria of expansion, either from source or destination, is the sum of staright line distance between a given node and the source and the distance between the node and the destination.  \n",
    "\n",
    "We will be implementing Dijkstra bi-directional search in Contraction Hierarchies notebook.\n",
    "\n",
    "Please note the following:  \n",
    "\n",
    "1. the origin and destination for the expansion from destionation node are reversed\n",
    "2. `f` stands for frontier (source expansion), `b` stands for back (destination expansion)\n"
   ]
  },
  {
   "cell_type": "code",
   "execution_count": null,
   "metadata": {},
   "outputs": [],
   "source": [
    "# first define the origin/source nodes as Node\n",
    "origin = Node(graph = G, node = G[55808290], osmid = 55808290, distance = 0, parent = None)\n",
    "destination = Node(graph = G, node = G[389677909], osmid = 389677909)\n",
    "destination_b = origin\n",
    "origin_b = destination"
   ]
  },
  {
   "cell_type": "code",
   "execution_count": null,
   "metadata": {},
   "outputs": [],
   "source": [
    "toGoal_f, toDestination_f = Astar_distance(G, 55808290, 389677909)\n",
    "toGoal_b, toDestination_b = Astar_distance(G, 389677909, 55808290)"
   ]
  },
  {
   "cell_type": "code",
   "execution_count": null,
   "metadata": {},
   "outputs": [],
   "source": [
    "%%time\n",
    "route = []\n",
    "\n",
    "# uncomment the following line to see the progress bar\n",
    "\n",
    "# bar = tqdm(total=len(G))\n",
    "\n",
    "f_value = lambda node: toGoal_f[node.osmid] + toDestination_f[node.osmid]\n",
    "b_value = lambda node: toGoal_b[node.osmid] + toDestination_b[node.osmid]\n",
    "\n",
    "queue_f = PriorityQueue('min', f_value)\n",
    "queue_b = PriorityQueue('min', b_value)\n",
    "\n",
    "queue_f.append(origin)\n",
    "queue_b.append(origin_b)\n",
    "\n",
    "explored_f = set()\n",
    "explored_b = set()\n",
    "\n",
    "collide = False\n",
    "found = False\n",
    "\n",
    "while queue_f and queue_b and not collide and not found:\n",
    "    node_f = queue_f.pop()\n",
    "    node_b = queue_b.pop()\n",
    "#     bar.update(1); time.sleep(0.1)\n",
    "    \n",
    "    if f_value(node_f) < b_value(node_b):\n",
    "        queue_b.append(node_b)\n",
    "        explored_f.add(node_f)\n",
    "        \n",
    "        if node_f == destination:\n",
    "            route, cost = node_f.path()\n",
    "        # now we have expanded a node from the frontier\n",
    "        # that is present from back expansion \n",
    "        # stitch the two paths together\n",
    "        if node_f in explored_b:\n",
    "            # python stuff to get the overlapping node\n",
    "            indexable_explored = list(explored_b)\n",
    "            index = indexable_explored.index(node_f)\n",
    "            node_from_b = indexable_explored[index]\n",
    "            # stitching the path from the frontier and the path from the back\n",
    "            route = node_f.path()[0] + [*reversed(node_from_b.path()[0])]\n",
    "            _, cost = child.path()[1] + node_from_b.path()[1]\n",
    "            collide = True\n",
    "            continue\n",
    "            \n",
    "        for child in node_f.expand():\n",
    "            if child in explored_b:\n",
    "                # same stitching as in above\n",
    "                indexable_explored = list(explored_b)\n",
    "                index = indexable_explored.index(child)\n",
    "                node_from_b = indexable_explored[index]\n",
    "                route = child.path()[0] + [*reversed(node_from_b.path()[0])]\n",
    "                # getting the cost\n",
    "                _, cost = child.path()[1] + node_from_b.path()[1]\n",
    "                collide = True\n",
    "                continue\n",
    "            if child not in explored_f and child not in queue_f:\n",
    "                if child == destination:\n",
    "                    route, cost = child.path()\n",
    "                    found = True\n",
    "                    continue\n",
    "                queue_f.append(child)\n",
    "            \n",
    "            \n",
    "    else:\n",
    "        \n",
    "        queue_f.append(node_f)\n",
    "        explored_b.add(node_b)\n",
    "        \n",
    "        if node_b == destination_b:\n",
    "            route, cost = node_b.path()\n",
    "            found = True\n",
    "            continue\n",
    "        if node_b in explored_f:\n",
    "            indexable_explored = list(explored_f)\n",
    "            index = indexable_explored.index(node_b)\n",
    "            node_from_f = indexable_explored[index]\n",
    "            route = [*node_from_f.path()[0]] + [*reversed(node_b.path()[0])]\n",
    "            _, cost = node_from_f.path()[1] + node_b.path()[1]\n",
    "            collide = True\n",
    "            continue\n",
    "            \n",
    "        for child in node_b.expand():\n",
    "            if child in explored_f:\n",
    "                indexable_explored = list(explored_f)\n",
    "                index = indexable_explored.index(child)\n",
    "                node_from_f = indexable_explored[index]\n",
    "                route = [*node_from_f.path()[0]] + [*reversed(child.path()[0])]\n",
    "                _, cost = node_from_f.path()[1] + child.path()[1]\n",
    "                collide = True\n",
    "                continue\n",
    "            if child not in explored_b and child not in queue_b:\n",
    "                if child == destination_b:\n",
    "                    route, cost = child.path()\n",
    "                    route = [*reversed(route)]\n",
    "                    found = True\n",
    "                    continue\n",
    "                queue_b.append(child)\n",
    "\n",
    "# bar.close()\n",
    "print(route)"
   ]
  },
  {
   "cell_type": "markdown",
   "metadata": {},
   "source": [
    "Well, in my machine [A*](./a*_search.ipynb) took 12-15 ms but the bi-directional version here took less than 5 ms, that is for sure without using `tqdm`."
   ]
  },
  {
   "cell_type": "code",
   "execution_count": null,
   "metadata": {},
   "outputs": [],
   "source": [
    "nc = ['r' if node in route else '#336699' for node in G.nodes()]\n",
    "ns = [50 if node in route else 8 for node in G.nodes()]\n",
    "fig, ax = ox.plot_graph(G, node_size=ns, node_color=nc, node_zorder=2)"
   ]
  },
  {
   "cell_type": "code",
   "execution_count": null,
   "metadata": {},
   "outputs": [],
   "source": []
  }
 ],
 "metadata": {
  "kernelspec": {
   "display_name": "Python 3",
   "language": "python",
   "name": "python3"
  },
  "language_info": {
   "codemirror_mode": {
    "name": "ipython",
    "version": 3
   },
   "file_extension": ".py",
   "mimetype": "text/x-python",
   "name": "python",
   "nbconvert_exporter": "python",
   "pygments_lexer": "ipython3",
   "version": "3.6.9"
  }
 },
 "nbformat": 4,
 "nbformat_minor": 4
}
