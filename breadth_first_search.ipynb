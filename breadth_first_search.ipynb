{
 "cells": [
  {
   "cell_type": "markdown",
   "metadata": {},
   "source": [
    "# Breadth First Search\n",
    "\n",
    "We will be trying to find and visualize the path between Equestrian Statue of Edward VII and Bahen Center of Technology around Toronto University campus using breadth first search"
   ]
  },
  {
   "cell_type": "markdown",
   "metadata": {},
   "source": [
    "\n",
    "__BREADTH-FIRST-SEARCH__(graph) __returns__ a route and cost, or failure  \n",
    "&emsp;__if__ _graph_ first node is a goal __then return__ empty path to initial state  \n",
    "&emsp;_frontier_ &larr; a **FIFO** queue initially containing one path, for the _graph_'s initial node  \n",
    "&emsp;_reached_ &larr; a set of states; initially empty  \n",
    "&emsp;_solution_ &larr; failure  \n",
    "&emsp;__while__  _frontier_ is not empty __do__  \n",
    "&emsp;&emsp;&emsp;_parent_ &larr; the first node in _frontier_  \n",
    "&emsp;&emsp;&emsp;__for__ _child_ __in__ successors(_parent_) __do__   \n",
    "&emsp;&emsp;&emsp;&emsp;&emsp;_s_ &larr; _child_.state  \n",
    "&emsp;&emsp;&emsp;&emsp;&emsp;__if__ _s_ is a goal  __then__  \n",
    "&emsp;&emsp;&emsp;&emsp;&emsp;&emsp;&emsp;__return__  _child_  \n",
    "&emsp;&emsp;&emsp;&emsp;&emsp;__if__ _s_ is not in _reached_ __then__  \n",
    "&emsp;&emsp;&emsp;&emsp;&emsp;&emsp;&emsp;add _s_ to _reached_  \n",
    "&emsp;&emsp;&emsp;&emsp;&emsp;&emsp;&emsp;add _child_ to the end of _frontier_  \n",
    "&emsp;__return__  _solution_"
   ]
  },
  {
   "cell_type": "code",
   "execution_count": null,
   "metadata": {},
   "outputs": [],
   "source": [
    "%%capture\n",
    "\n",
    "##############################################################################\n",
    "# IGNORE if you are running on a local machine and have all the dependencies #\n",
    "##############################################################################\n",
    "\n",
    "# installing dependencies --- to be able to run on google colab\n",
    "# it would take 2-3 minutes\n",
    "!apt-get install libspatialindex-c4v5;\n",
    "!pip3 install Rtree;\n",
    "!pip3 install osmnx;\n",
    "!pip3 install tqdm;"
   ]
  },
  {
   "cell_type": "code",
   "execution_count": 3,
   "metadata": {},
   "outputs": [],
   "source": [
    "import osmnx as ox\n",
    "import networkx as nx\n",
    "from tqdm import tqdm\n",
    "import time, random\n",
    "from IPython.display import IFrame, HTML\n",
    "from collections import deque\n",
    "import matplotlib.pyplot as plt\n",
    "from problem import *\n",
    "from utils import *"
   ]
  },
  {
   "cell_type": "code",
   "execution_count": 11,
   "metadata": {},
   "outputs": [],
   "source": [
    "from Utilities.utils import *"
   ]
  },
  {
   "cell_type": "code",
   "execution_count": null,
   "metadata": {},
   "outputs": [],
   "source": []
  },
  {
   "cell_type": "markdown",
   "metadata": {},
   "source": [
    "Here OSMnx find the largest connected component centered around the ```location point``` with specified ```dist``` on each side (w/n/e/s)."
   ]
  },
  {
   "cell_type": "code",
   "execution_count": null,
   "metadata": {},
   "outputs": [],
   "source": [
    "location_point = (43.661667, -79.395)\n",
    "G = ox.graph_from_point(location_point, dist=300, clean_periphery=True, simplify=True)\n",
    "graph_map = ox.plot_graph_folium(G, popup_attribute='name', edge_width=2)\n",
    "fig, ax = ox.plot_graph(G)"
   ]
  },
  {
   "cell_type": "code",
   "execution_count": null,
   "metadata": {},
   "outputs": [],
   "source": [
    "# we need to save the graph \n",
    "filepath = 'data/graph.html'\n",
    "graph_map.save(filepath)\n",
    "IFrame(filepath, width=600, height=500)"
   ]
  },
  {
   "cell_type": "markdown",
   "metadata": {},
   "source": [
    "Here you need to specify which node from our graph is the source (Equestrian Statue of Edward VII) and which is the destination node (Bahen Center of Technology). You can do so by acquiring the decimal coordinates of the desired node and use [```osmnx.distance.get_nearest_node```](https://osmnx.readthedocs.io/en/stable/osmnx.html#osmnx.distance.get_nearest_node) method"
   ]
  },
  {
   "cell_type": "markdown",
   "metadata": {},
   "source": [
    "I used the aforementioned method and found that the nodes for destination and source are 389677909, 55808290 respectively"
   ]
  },
  {
   "cell_type": "code",
   "execution_count": null,
   "metadata": {},
   "outputs": [],
   "source": [
    "# marking both the source and destination node\n",
    "\n",
    "nc = ['r' if node == 389677909 or node == 55808290 else '#336699' for node in G.nodes()]\n",
    "ns = [50 if node == 389677909 or node == 55808290 else 8 for node in G.nodes()]\n",
    "fig, ax = ox.plot_graph(G, node_size=ns, node_color=nc, node_zorder=2)"
   ]
  },
  {
   "cell_type": "markdown",
   "metadata": {},
   "source": [
    "Each node in our graph is represented as a dictionary so manipulating them would obfuscate the algorithm manipulating them and would be unnecessary expensive computationally <b>so</b> we define class ```Node``` only retains the data we need to be able to do searching and traversing.\n",
    "\n",
    "Please check its source code in ```./problem.py``` to know how it capture the data from the graph"
   ]
  },
  {
   "cell_type": "code",
   "execution_count": null,
   "metadata": {},
   "outputs": [],
   "source": [
    "%%capture\n",
    "source(Node)"
   ]
  },
  {
   "cell_type": "markdown",
   "metadata": {},
   "source": [
    "# The Algorithm"
   ]
  },
  {
   "cell_type": "code",
   "execution_count": null,
   "metadata": {},
   "outputs": [],
   "source": [
    "# first define the origin/source nodes as Node\n",
    "origin = Node(graph = G, node = G[55808290], osmid = 55808290, distance = 0, parent = None)\n",
    "destination = Node(graph = G, node = G[389677909], osmid = 389677909)"
   ]
  },
  {
   "cell_type": "code",
   "execution_count": null,
   "metadata": {},
   "outputs": [],
   "source": [
    "bar = tqdm(total=len(G))\n",
    "route = []\n",
    "frontier = deque([origin])\n",
    "explored = set()\n",
    "found = False\n",
    "while frontier and not found:\n",
    "    bar.update(1); time.sleep(0.1)\n",
    "    node = frontier.popleft()\n",
    "    explored.add(node)\n",
    "    for child in node.expand():\n",
    "        if child not in explored and child not in frontier:\n",
    "            if child == destination:\n",
    "                route, cost = child.path()\n",
    "                print(route)\n",
    "                found = True\n",
    "            frontier.append(child)\n",
    "\n",
    "bar.close()\n",
    "print(route)"
   ]
  },
  {
   "cell_type": "markdown",
   "metadata": {},
   "source": [
    "let's see the length of that route"
   ]
  },
  {
   "cell_type": "code",
   "execution_count": null,
   "metadata": {},
   "outputs": [],
   "source": [
    "fig, ax = ox.plot_graph_route(G, route)"
   ]
  },
  {
   "cell_type": "code",
   "execution_count": null,
   "metadata": {},
   "outputs": [],
   "source": [
    "route_map = ox.plot_route_folium(G, route)\n",
    "filepath = 'data/route.html'\n",
    "route_map.save(filepath)\n",
    "IFrame(filepath, width=600, height=500)"
   ]
  },
  {
   "cell_type": "code",
   "execution_count": null,
   "metadata": {},
   "outputs": [],
   "source": [
    "G1 = ox.graph_from_xml(\"./export.osm\", simplify = False, retain_all = True)"
   ]
  },
  {
   "cell_type": "code",
   "execution_count": null,
   "metadata": {},
   "outputs": [],
   "source": [
    "fig, ax = ox.plot_graph(G1)"
   ]
  },
  {
   "cell_type": "code",
   "execution_count": null,
   "metadata": {},
   "outputs": [],
   "source": [
    "nc = ['r' if node in [*find_by_osmid(G1,   295165976)]  else '#336699' for node in G1.nodes()]\n",
    "ns = [50 if node in [*find_by_osmid(G1,   295165976)] else 8 for node in G1.nodes()]\n",
    "fig, ax = ox.plot_graph(G1, node_size=ns, node_color=nc, node_zorder=2)"
   ]
  },
  {
   "cell_type": "code",
   "execution_count": null,
   "metadata": {},
   "outputs": [],
   "source": [
    "def find_by_osmid(G, osmid):\n",
    "    for node in G:\n",
    "        for neighbour in G[node]:\n",
    "            if G[node][neighbour][0]['osmid'] == osmid:\n",
    "                yield neighbour"
   ]
  },
  {
   "cell_type": "code",
   "execution_count": null,
   "metadata": {},
   "outputs": [],
   "source": [
    "[*find_by_osmid(G1,  10520720)]"
   ]
  },
  {
   "cell_type": "code",
   "execution_count": null,
   "metadata": {},
   "outputs": [],
   "source": [
    "from ipyleaflet import Map, Marker\n"
   ]
  },
  {
   "cell_type": "code",
   "execution_count": null,
   "metadata": {},
   "outputs": [],
   "source": [
    "center = ( 50.749388,7.130756 )\n",
    "\n",
    "m = Map(center=center, zoom=15)\n",
    "\n",
    "marker = Marker(location=(50.747603,7.136665), draggable=False)\n",
    "m.add_layer(marker);\n",
    "marker = Marker(location=(50.747535,7.136541), draggable=False)\n",
    "m.add_layer(marker);\n",
    "marker = Marker(location=(50.747111, 7.135578), draggable=False)\n",
    "m.add_layer(marker);\n",
    "marker = Marker(location=(50.747072,7.135416), draggable=False)\n",
    "m.add_layer(marker);\n",
    "marker = Marker(location=(50.746944,7.13461), draggable=False)\n",
    "m.add_layer(marker);\n",
    "marker = Marker(location=(50.746868,7.133971), draggable=False)\n",
    "m.add_layer(marker);\n",
    "marker = Marker(location=(50.74688,7.133253), draggable=False)\n",
    "m.add_layer(marker);\n",
    "marker = Marker(location=(50.746891,7.132963), draggable=False)\n",
    "m.add_layer(marker);\n",
    "marker = Marker(location=(50.746938,7.13185), draggable=False)\n",
    "m.add_layer(marker);\n",
    "marker = Marker(location=(50.748947, 7.131108), draggable=False)\n",
    "m.add_layer(marker);\n",
    "marker = Marker(location=(50.749388, 7.130756), draggable=False)\n",
    "m.add_layer(marker);\n",
    "\n",
    "m"
   ]
  },
  {
   "cell_type": "code",
   "execution_count": null,
   "metadata": {},
   "outputs": [],
   "source": [
    "from ipyleaflet import Map, Polyline, AntPath\n"
   ]
  },
  {
   "cell_type": "code",
   "execution_count": null,
   "metadata": {},
   "outputs": [],
   "source": [
    "line = AntPath(\n",
    "    locations=[\n",
    "        [50.747603,7.136665],\n",
    "        [50.747535,7.136541],\n",
    "        [50.747111, 7.135578],\n",
    "        [50.747072,7.135416],\n",
    "        [50.746944,7.13461],\n",
    "        [50.746868,7.133971],\n",
    "        [50.74688,7.133253],\n",
    "        [50.746891,7.132963],\n",
    "        [50.746938,7.13185],\n",
    "        [50.748947, 7.131108],\n",
    "        [50.749388, 7.130756]\n",
    "        \n",
    "    ],\n",
    "#     color=\"green\" ,\n",
    "#     fill=False\n",
    "    dash_array=[1, 10],\n",
    "    delay=1000,\n",
    "    color='#7590ba',\n",
    "    pulse_color='#3f6fba'\n",
    ")\n",
    "m = Map(center = ( 50.749388,7.130756 ), zoom =20)\n",
    "m.add_layer(line)\n",
    "m"
   ]
  },
  {
   "cell_type": "code",
   "execution_count": null,
   "metadata": {},
   "outputs": [],
   "source": [
    "G.nodes()"
   ]
  },
  {
   "cell_type": "code",
   "execution_count": null,
   "metadata": {},
   "outputs": [],
   "source": [
    "G[50897923]"
   ]
  },
  {
   "cell_type": "code",
   "execution_count": null,
   "metadata": {},
   "outputs": [],
   "source": [
    "G1 = ox.graph_to_gdfs(G)"
   ]
  },
  {
   "cell_type": "code",
   "execution_count": null,
   "metadata": {},
   "outputs": [],
   "source": [
    "for row in G1[0]:\n",
    "    print(G1[0][row])"
   ]
  },
  {
   "cell_type": "code",
   "execution_count": null,
   "metadata": {},
   "outputs": [],
   "source": [
    "G1[0]"
   ]
  },
  {
   "cell_type": "code",
   "execution_count": null,
   "metadata": {},
   "outputs": [],
   "source": [
    "x = [316884976, 3311164627, 150430583]"
   ]
  },
  {
   "cell_type": "code",
   "execution_count": null,
   "metadata": {},
   "outputs": [],
   "source": [
    "nc = ['r' if node in x  else '#336699' for node in G.nodes()]\n",
    "ns = [50 if node in x else 8 for node in G.nodes()]\n",
    "fig, ax = ox.plot_graph(G, node_size=ns, node_color=nc, node_zorder=2)"
   ]
  },
  {
   "cell_type": "code",
   "execution_count": null,
   "metadata": {},
   "outputs": [],
   "source": [
    "G[150430583]"
   ]
  },
  {
   "cell_type": "code",
   "execution_count": null,
   "metadata": {},
   "outputs": [],
   "source": [
    "import pandas as pd"
   ]
  },
  {
   "cell_type": "code",
   "execution_count": null,
   "metadata": {},
   "outputs": [],
   "source": [
    "for node in G1:\n",
    "    for prop in node:\n",
    "        print(prop)\n",
    "        print((node[prop]))\n",
    "        print(\"....................................--------------------................................\")\n",
    "    "
   ]
  },
  {
   "cell_type": "code",
   "execution_count": null,
   "metadata": {},
   "outputs": [],
   "source": [
    "G[6028562355]"
   ]
  },
  {
   "cell_type": "code",
   "execution_count": null,
   "metadata": {},
   "outputs": [],
   "source": []
  }
 ],
 "metadata": {
  "kernelspec": {
   "display_name": "Python 3",
   "language": "python",
   "name": "python3"
  },
  "language_info": {
   "codemirror_mode": {
    "name": "ipython",
    "version": 3
   },
   "file_extension": ".py",
   "mimetype": "text/x-python",
   "name": "python",
   "nbconvert_exporter": "python",
   "pygments_lexer": "ipython3",
   "version": "3.6.9"
  }
 },
 "nbformat": 4,
 "nbformat_minor": 4
}
